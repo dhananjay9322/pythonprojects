{
 "cells": [
  {
   "cell_type": "code",
   "execution_count": null,
   "id": "e932e12d-db30-4856-a739-9aa1e50fcba0",
   "metadata": {},
   "outputs": [],
   "source": [
    "# Step 1: Write initial content to mydata.txt\n",
    "with open(\"mydata.txt\", \"w\") as file:\n",
    "    file.write(\"This is the first content written to the file.\\n\")\n",
    "\n",
    "# Step 2: Read and display the content\n",
    "with open(\"mydata.txt\", \"r\") as file:\n",
    "    content = file.read()\n",
    "    print(\"Content after first write:\")\n",
    "    print(content)\n",
    "\n",
    "# Step 3: Overwrite the file with new content\n",
    "with open(\"mydata.txt\", \"w\") as file:\n",
    "    file.write(\"This is new content that replaces the old content.\\n\")\n",
    "\n",
    "# Step 4: Read and display the updated content\n",
    "with open(\"mydata.txt\", \"r\") as file:\n",
    "    updated_content = file.read()\n",
    "    print(\"Content after overwrite:\")\n",
    "    print(updated_content)"
   ]
  },
  {
   "cell_type": "code",
   "execution_count": null,
   "id": "34373360-7de4-494f-8e3a-16d6d430ad55",
   "metadata": {},
   "outputs": [],
   "source": []
  }
 ],
 "metadata": {
  "kernelspec": {
   "display_name": "Python [conda env:base] *",
   "language": "python",
   "name": "conda-base-py"
  },
  "language_info": {
   "name": ""
  }
 },
 "nbformat": 4,
 "nbformat_minor": 5
}
