{
 "cells": [
  {
   "cell_type": "code",
   "execution_count": null,
   "id": "d1107518-275d-4d47-847d-aa3476e5a5b2",
   "metadata": {},
   "outputs": [],
   "source": []
  }
 ],
 "metadata": {
  "kernelspec": {
   "display_name": "",
   "name": ""
  },
  "language_info": {
   "name": ""
  }
 },
 "nbformat": 4,
 "nbformat_minor": 5
}
