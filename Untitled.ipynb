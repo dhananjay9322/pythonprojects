{
 "cells": [
  {
   "cell_type": "code",
   "execution_count": null,
   "id": "6af5d4c9-87ae-4dde-87a1-d3b6f2ce9a33",
   "metadata": {},
   "outputs": [],
   "source": []
  }
 ],
 "metadata": {
  "kernelspec": {
   "display_name": "",
   "name": ""
  },
  "language_info": {
   "name": ""
  }
 },
 "nbformat": 4,
 "nbformat_minor": 5
}
