{
 "cells": [
  {
   "cell_type": "code",
   "execution_count": null,
   "id": "376fb8f8-8954-4015-9028-6fc43a7aa336",
   "metadata": {},
   "outputs": [
    {
     "name": "stdout",
     "output_type": "stream",
     "text": [
      "* Running on local URL:  http://127.0.0.1:7861\n"
     ]
    }
   ],
   "source": [
    "import gradio as gr\n",
    "import subprocess\n",
    "import time\n",
    "import schedule\n",
    "\n",
    "def send_email():\n",
    "    return \"📧 Email sent (simulated).\"\n",
    "\n",
    "def run_script():\n",
    "    try:\n",
    "        result = subprocess.run(\"echo Script Executed\", capture_output=True, text=True, shell=True)\n",
    "        return f\"⏳ Script Output: {result.stdout}\"\n",
    "    except Exception as e:\n",
    "        return f\"❌ Error: {str(e)}\"\n",
    "\n",
    "def schedule_task():\n",
    "    schedule.clear()\n",
    "    schedule.every(1).minutes.do(send_email)\n",
    "    return \"⏲️ Task scheduled to run every minute.\"\n",
    "\n",
    "with gr.Blocks() as demo:\n",
    "    gr.Markdown(\"# ⚙️ Automation Panel using Gradio\")\n",
    "\n",
    "    with gr.Row():\n",
    "        run_btn = gr.Button(\"Run Script\")\n",
    "        email_btn = gr.Button(\"Send Email\")\n",
    "        schedule_btn = gr.Button(\"Schedule Task\")\n",
    "\n",
    "    output = gr.Textbox(label=\"Output\")\n",
    "\n",
    "    run_btn.click(fn=run_script, outputs=output)\n",
    "    email_btn.click(fn=send_email, outputs=output)\n",
    "    schedule_btn.click(fn=schedule_task, outputs=output)\n",
    "\n",
    "demo.launch(share=True)\n"
   ]
  },
  {
   "cell_type": "code",
   "execution_count": null,
   "id": "d8496ee0-b531-4379-becf-e29b2c779682",
   "metadata": {},
   "outputs": [],
   "source": []
  }
 ],
 "metadata": {
  "kernelspec": {
   "display_name": "Python [conda env:base] *",
   "language": "python",
   "name": "conda-base-py"
  },
  "language_info": {
   "codemirror_mode": {
    "name": "ipython",
    "version": 3
   },
   "file_extension": ".py",
   "mimetype": "text/x-python",
   "name": "python",
   "nbconvert_exporter": "python",
   "pygments_lexer": "ipython3",
   "version": "3.12.7"
  }
 },
 "nbformat": 4,
 "nbformat_minor": 5
}
